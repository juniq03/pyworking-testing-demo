{
 "cells": [
  {
   "cell_type": "code",
   "execution_count": 3,
   "metadata": {},
   "outputs": [
    {
     "name": "stdout",
     "output_type": "stream",
     "text": [
      "Obvod čtverce se stranou  356  je  1424  cm\n",
      "Obsah čtverce se stranou  356  je 126736 cm2\n"
     ]
    }
   ],
   "source": [
    "a = 356\n",
    "obvod = 4*a\n",
    "obsah = a*a\n",
    "print('Obvod čtverce se stranou ',a,' je ',obvod,' cm')\n",
    "print ('Obsah čtverce se stranou ',a,' je',obsah,'cm2')"
   ]
  },
  {
   "cell_type": "code",
   "execution_count": null,
   "metadata": {
    "collapsed": true
   },
   "outputs": [],
   "source": []
  }
 ],
 "metadata": {
  "kernelspec": {
   "display_name": "Python 3",
   "language": "python",
   "name": "python3"
  },
  "language_info": {
   "codemirror_mode": {
    "name": "ipython",
    "version": 3
   },
   "file_extension": ".py",
   "mimetype": "text/x-python",
   "name": "python",
   "nbconvert_exporter": "python",
   "pygments_lexer": "ipython3",
   "version": "3.6.3"
  }
 },
 "nbformat": 4,
 "nbformat_minor": 2
}
